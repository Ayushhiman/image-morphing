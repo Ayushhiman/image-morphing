{
 "cells": [
  {
   "cell_type": "code",
   "execution_count": 1,
   "metadata": {},
   "outputs": [
    {
     "name": "stderr",
     "output_type": "stream",
     "text": [
      "C:\\Users\\Soham\\anaconda3\\lib\\site-packages\\tensorflow\\python\\framework\\dtypes.py:526: FutureWarning: Passing (type, 1) or '1type' as a synonym of type is deprecated; in a future version of numpy, it will be understood as (type, (1,)) / '(1,)type'.\n",
      "  _np_qint8 = np.dtype([(\"qint8\", np.int8, 1)])\n",
      "C:\\Users\\Soham\\anaconda3\\lib\\site-packages\\tensorflow\\python\\framework\\dtypes.py:527: FutureWarning: Passing (type, 1) or '1type' as a synonym of type is deprecated; in a future version of numpy, it will be understood as (type, (1,)) / '(1,)type'.\n",
      "  _np_quint8 = np.dtype([(\"quint8\", np.uint8, 1)])\n",
      "C:\\Users\\Soham\\anaconda3\\lib\\site-packages\\tensorflow\\python\\framework\\dtypes.py:528: FutureWarning: Passing (type, 1) or '1type' as a synonym of type is deprecated; in a future version of numpy, it will be understood as (type, (1,)) / '(1,)type'.\n",
      "  _np_qint16 = np.dtype([(\"qint16\", np.int16, 1)])\n",
      "C:\\Users\\Soham\\anaconda3\\lib\\site-packages\\tensorflow\\python\\framework\\dtypes.py:529: FutureWarning: Passing (type, 1) or '1type' as a synonym of type is deprecated; in a future version of numpy, it will be understood as (type, (1,)) / '(1,)type'.\n",
      "  _np_quint16 = np.dtype([(\"quint16\", np.uint16, 1)])\n",
      "C:\\Users\\Soham\\anaconda3\\lib\\site-packages\\tensorflow\\python\\framework\\dtypes.py:530: FutureWarning: Passing (type, 1) or '1type' as a synonym of type is deprecated; in a future version of numpy, it will be understood as (type, (1,)) / '(1,)type'.\n",
      "  _np_qint32 = np.dtype([(\"qint32\", np.int32, 1)])\n",
      "C:\\Users\\Soham\\anaconda3\\lib\\site-packages\\tensorflow\\python\\framework\\dtypes.py:535: FutureWarning: Passing (type, 1) or '1type' as a synonym of type is deprecated; in a future version of numpy, it will be understood as (type, (1,)) / '(1,)type'.\n",
      "  np_resource = np.dtype([(\"resource\", np.ubyte, 1)])\n",
      "Using TensorFlow backend.\n"
     ]
    }
   ],
   "source": [
    "import tensorflow as tf\n",
    "import keras, keras.layers as L, keras.backend as K\n",
    "import numpy as np\n",
    "from sklearn.model_selection import train_test_split\n",
    "%matplotlib inline\n",
    "import matplotlib.pyplot as plt\n",
    "import cv2\n",
    "import os\n",
    "import tarfile\n",
    "import pandas as pd\n",
    "keras.backend.set_image_data_format('channels_last')"
   ]
  },
  {
   "cell_type": "code",
   "execution_count": 2,
   "metadata": {},
   "outputs": [],
   "source": [
    "ATTRS_NAME = \"lfw_attributes.txt\"\n",
    "IMAGES_NAME = \"lfw-deepfunneled.tgz\" "
   ]
  },
  {
   "cell_type": "code",
   "execution_count": 32,
   "metadata": {},
   "outputs": [
    {
     "data": {
      "text/plain": [
       "'# LFW Attribute Values v1.2 - lfw_attributes.txt - http://www.cs.columbia.edu/CAVE/projects/faceverification\\n'"
      ]
     },
     "execution_count": 32,
     "metadata": {},
     "output_type": "execute_result"
    }
   ],
   "source": [
    "f=open(ATTRS_NAME,'r')\n",
    "f.readline()"
   ]
  },
  {
   "cell_type": "code",
   "execution_count": 33,
   "metadata": {},
   "outputs": [],
   "source": [
    "attr=[]\n",
    "for x in f:\n",
    "    attr.append(x.split('\\t'))"
   ]
  },
  {
   "cell_type": "code",
   "execution_count": 34,
   "metadata": {},
   "outputs": [],
   "source": [
    "columns=attr[0][1:]\n",
    "attr=attr[1:]"
   ]
  },
  {
   "cell_type": "code",
   "execution_count": 35,
   "metadata": {},
   "outputs": [],
   "source": [
    "images_with_attr=[]\n",
    "for i in range(len(attr)):\n",
    "    images_with_attr.append((attr[i][0],attr[i][1]))"
   ]
  },
  {
   "cell_type": "code",
   "execution_count": 36,
   "metadata": {},
   "outputs": [],
   "source": [
    "def decode_image_from_raw_bytes(raw_bytes):\n",
    "    img = cv2.imdecode(np.asarray(bytearray(raw_bytes), dtype=np.uint8), 1)\n",
    "    img = cv2.cvtColor(img, cv2.COLOR_BGR2RGB)\n",
    "    return img"
   ]
  },
  {
   "cell_type": "code",
   "execution_count": 37,
   "metadata": {},
   "outputs": [],
   "source": [
    "all_photos = []\n",
    "new_attr = []\n",
    "with tarfile.open(IMAGES_NAME) as f:\n",
    "    for m in f.getmembers():\n",
    "        if m.isfile() and m.name.endswith(\".jpg\"):\n",
    "            img = decode_image_from_raw_bytes(f.extractfile(m).read())\n",
    "            img = img[80:-80, 80:-80]\n",
    "            img = cv2.resize(img, (32, 32))\n",
    "            fname = os.path.split(m.name)[-1]\n",
    "            fname_splitted = fname[:-4].replace('_', ' ').split()\n",
    "            person_id = ' '.join(fname_splitted[:-1])\n",
    "            photo_number = str(int(fname_splitted[-1]))\n",
    "            try:\n",
    "                index=images_with_attr.index((person_id, photo_number))\n",
    "                all_photos.append(img)\n",
    "                new_attr.append(attr[index])\n",
    "            except:\n",
    "                pass"
   ]
  },
  {
   "cell_type": "code",
   "execution_count": 38,
   "metadata": {},
   "outputs": [],
   "source": [
    "X=np.stack(all_photos).astype('float32')/255.0"
   ]
  },
  {
   "cell_type": "code",
   "execution_count": 39,
   "metadata": {},
   "outputs": [
    {
     "data": {
      "text/plain": [
       "13143"
      ]
     },
     "execution_count": 39,
     "metadata": {},
     "output_type": "execute_result"
    }
   ],
   "source": [
    "len(X)"
   ]
  },
  {
   "cell_type": "code",
   "execution_count": 40,
   "metadata": {},
   "outputs": [],
   "source": [
    "X_train, X_test = train_test_split(X, test_size=0.25)"
   ]
  },
  {
   "cell_type": "code",
   "execution_count": 41,
   "metadata": {},
   "outputs": [],
   "source": [
    "final_attr=pd.DataFrame(columns=columns,data=new_attr)"
   ]
  },
  {
   "cell_type": "code",
   "execution_count": 42,
   "metadata": {},
   "outputs": [],
   "source": [
    "dic={}\n",
    "for i in columns[1:]:\n",
    "    dic[i]='float32'"
   ]
  },
  {
   "cell_type": "code",
   "execution_count": 43,
   "metadata": {},
   "outputs": [],
   "source": [
    "final_attr=final_attr.astype(dic)"
   ]
  },
  {
   "cell_type": "code",
   "execution_count": 15,
   "metadata": {},
   "outputs": [],
   "source": [
    "def build_encoder():\n",
    "    encoder= keras.models.Sequential()\n",
    "    encoder.add(L.InputLayer((32,32,3)))\n",
    "    encoder.add(L.Conv2D(filters=32, kernel_size=(3, 3), activation='elu', padding='same'))\n",
    "    encoder.add(L.MaxPool2D((2,2)))\n",
    "    encoder.add(L.Conv2D(filters=64, kernel_size=(3, 3), activation='elu', padding='same'))\n",
    "    encoder.add(L.MaxPool2D((2,2)))\n",
    "    encoder.add(L.Conv2D(filters=128, kernel_size=(3, 3), activation='elu', padding='same'))\n",
    "    encoder.add(L.MaxPool2D((2,2)))\n",
    "    encoder.add(L.Conv2D(filters=256, kernel_size=(3, 3), activation='elu', padding='same'))\n",
    "    encoder.add(L.MaxPool2D((2,2)))\n",
    "    encoder.add(L.Flatten())\n",
    "    encoder.add(L.Dense(32,activation='elu'))\n",
    "#     encoder.summary()\n",
    "    return encoder"
   ]
  },
  {
   "cell_type": "code",
   "execution_count": 16,
   "metadata": {},
   "outputs": [],
   "source": [
    "def build_decoder():\n",
    "    decoder = keras.models.Sequential()\n",
    "    decoder.add(L.InputLayer((32,)))\n",
    "    decoder.add(L.Dense(1024,activation='elu'))\n",
    "    decoder.add(L.Reshape((2,2,256)))\n",
    "    decoder.add(L.Conv2DTranspose(filters=128, kernel_size=(3, 3), strides=2, activation='elu', padding='same'))\n",
    "    decoder.add(L.Conv2DTranspose(filters=64, kernel_size=(3, 3), strides=2, activation='elu', padding='same'))\n",
    "    decoder.add(L.Conv2DTranspose(filters=32, kernel_size=(3, 3), strides=2, activation='elu', padding='same'))\n",
    "    decoder.add(L.Conv2DTranspose(filters=3, kernel_size=(3, 3), strides=2, padding='same'))\n",
    "#     decoder.summary()\n",
    "    return decoder"
   ]
  },
  {
   "cell_type": "code",
   "execution_count": 23,
   "metadata": {},
   "outputs": [],
   "source": [
    "K.clear_session()"
   ]
  },
  {
   "cell_type": "code",
   "execution_count": 18,
   "metadata": {},
   "outputs": [
    {
     "name": "stdout",
     "output_type": "stream",
     "text": [
      "WARNING:tensorflow:From C:\\Users\\Soham\\anaconda3\\lib\\site-packages\\tensorflow\\python\\ops\\resource_variable_ops.py:435: colocate_with (from tensorflow.python.framework.ops) is deprecated and will be removed in a future version.\n",
      "Instructions for updating:\n",
      "Colocations handled automatically by placer.\n",
      "Model: \"model_1\"\n",
      "_________________________________________________________________\n",
      "Layer (type)                 Output Shape              Param #   \n",
      "=================================================================\n",
      "input_3 (InputLayer)         (None, 32, 32, 3)         0         \n",
      "_________________________________________________________________\n",
      "sequential_1 (Sequential)    (None, 32)                421216    \n",
      "_________________________________________________________________\n",
      "sequential_2 (Sequential)    (None, 32, 32, 3)         421955    \n",
      "=================================================================\n",
      "Total params: 843,171\n",
      "Trainable params: 843,171\n",
      "Non-trainable params: 0\n",
      "_________________________________________________________________\n"
     ]
    }
   ],
   "source": [
    "encoder=build_encoder()\n",
    "decoder=build_decoder()\n",
    "inp = L.Input((32,32,3))\n",
    "code = encoder(inp)\n",
    "reconstruction = decoder(code)\n",
    "\n",
    "autoencoder = keras.models.Model(inputs=inp, outputs=reconstruction)\n",
    "autoencoder.compile(optimizer=\"adamax\", loss='mse')\n",
    "autoencoder.summary()"
   ]
  },
  {
   "cell_type": "code",
   "execution_count": 28,
   "metadata": {},
   "outputs": [],
   "source": [
    "autoencoder.fit(x=X_train, y=X_train, epochs=25,\n",
    "                validation_data=[X_test, X_test])"
   ]
  },
  {
   "cell_type": "code",
   "execution_count": 20,
   "metadata": {},
   "outputs": [],
   "source": [
    "encoder.save_weights(\"encoder.h5\")\n",
    "decoder.save_weights(\"decoder.h5\")"
   ]
  },
  {
   "cell_type": "code",
   "execution_count": 24,
   "metadata": {},
   "outputs": [],
   "source": [
    "K.clear_session()"
   ]
  },
  {
   "cell_type": "code",
   "execution_count": 25,
   "metadata": {},
   "outputs": [
    {
     "name": "stdout",
     "output_type": "stream",
     "text": [
      "Model: \"model_1\"\n",
      "_________________________________________________________________\n",
      "Layer (type)                 Output Shape              Param #   \n",
      "=================================================================\n",
      "input_3 (InputLayer)         (None, 32, 32, 3)         0         \n",
      "_________________________________________________________________\n",
      "sequential_1 (Sequential)    (None, 32)                421216    \n",
      "_________________________________________________________________\n",
      "sequential_2 (Sequential)    (None, 32, 32, 3)         421955    \n",
      "=================================================================\n",
      "Total params: 843,171\n",
      "Trainable params: 843,171\n",
      "Non-trainable params: 0\n",
      "_________________________________________________________________\n"
     ]
    }
   ],
   "source": [
    "encoder=build_encoder()\n",
    "decoder=build_decoder()\n",
    "encoder.load_weights(\"encoder.h5\")\n",
    "decoder.load_weights(\"decoder.h5\")\n",
    "inp = L.Input((32,32,3))\n",
    "code = encoder(inp)\n",
    "reconstruction = decoder(code)\n",
    "\n",
    "autoencoder = keras.models.Model(inputs=inp, outputs=reconstruction)\n",
    "autoencoder.compile(optimizer=\"adamax\", loss='mse')\n",
    "autoencoder.summary()"
   ]
  },
  {
   "cell_type": "code",
   "execution_count": 26,
   "metadata": {},
   "outputs": [],
   "source": [
    "def visualize(img,encoder,decoder):\n",
    "    code = encoder.predict(img[None])[0]\n",
    "    reco = decoder.predict(code[None])[0]\n",
    "\n",
    "    plt.subplot(1,3,1)\n",
    "    plt.title(\"Original\")\n",
    "    plt.imshow(img)\n",
    "\n",
    "    plt.subplot(1,3,3)\n",
    "    plt.title(\"Reconstructed\")\n",
    "    plt.imshow(reco)\n",
    "    plt.show()"
   ]
  },
  {
   "cell_type": "code",
   "execution_count": 27,
   "metadata": {
    "scrolled": true
   },
   "outputs": [
    {
     "name": "stdout",
     "output_type": "stream",
     "text": [
      "Convolutional autoencoder MSE: 0.004788077629680904\n"
     ]
    },
    {
     "data": {
      "image/png": "[encoded data removed]",
      "text/plain": [
       "<Figure size 432x288 with 2 Axes>"
      ]
     },
     "metadata": {
      "needs_background": "light"
     },
     "output_type": "display_data"
    },
    {
     "data": {
      "image/png": "[encoded data removed]",
      "text/plain": [
       "<Figure size 432x288 with 2 Axes>"
      ]
     },
     "metadata": {
      "needs_background": "light"
     },
     "output_type": "display_data"
    },
    {
     "data": {
      "image/png": "[encoded data removed]",
      "text/plain": [
       "<Figure size 432x288 with 2 Axes>"
      ]
     },
     "metadata": {
      "needs_background": "light"
     },
     "output_type": "display_data"
    },
    {
     "name": "stderr",
     "output_type": "stream",
     "text": [
      "Clipping input data to the valid range for imshow with RGB data ([0..1] for floats or [0..255] for integers).\n"
     ]
    },
    {
     "data": {
      "image/png": "[encoded data removed]",
      "text/plain": [
       "<Figure size 432x288 with 2 Axes>"
      ]
     },
     "metadata": {
      "needs_background": "light"
     },
     "output_type": "display_data"
    },
    {
     "data": {
      "image/png": "[encoded data removed]",
      "text/plain": [
       "<Figure size 432x288 with 2 Axes>"
      ]
     },
     "metadata": {
      "needs_background": "light"
     },
     "output_type": "display_data"
    }
   ],
   "source": [
    "reconstruction_mse = autoencoder.evaluate(X_test, X_test, verbose=0)\n",
    "print(\"Convolutional autoencoder MSE:\", reconstruction_mse)\n",
    "for i in range(5):\n",
    "    img = X_test[i]\n",
    "    visualize(img,encoder,decoder)"
   ]
  },
  {
   "cell_type": "code",
   "execution_count": 44,
   "metadata": {},
   "outputs": [
    {
     "data": {
      "text/html": [
       "<div>\n",
       "<style scoped>\n",
       "    .dataframe tbody tr th:only-of-type {\n",
       "        vertical-align: middle;\n",
       "    }\n",
       "\n",
       "    .dataframe tbody tr th {\n",
       "        vertical-align: top;\n",
       "    }\n",
       "\n",
       "    .dataframe thead th {\n",
       "        text-align: right;\n",
       "    }\n",
       "</style>\n",
       "<table border=\"1\" class=\"dataframe\">\n",
       "  <thead>\n",
       "    <tr style=\"text-align: right;\">\n",
       "      <th></th>\n",
       "      <th>person</th>\n",
       "      <th>imagenum</th>\n",
       "      <th>Male</th>\n",
       "      <th>Asian</th>\n",
       "      <th>White</th>\n",
       "      <th>Black</th>\n",
       "      <th>Baby</th>\n",
       "      <th>Child</th>\n",
       "      <th>Youth</th>\n",
       "      <th>Middle Aged</th>\n",
       "      <th>...</th>\n",
       "      <th>Pale Skin</th>\n",
       "      <th>5 o' Clock Shadow</th>\n",
       "      <th>Strong Nose-Mouth Lines</th>\n",
       "      <th>Wearing Lipstick</th>\n",
       "      <th>Flushed Face</th>\n",
       "      <th>High Cheekbones</th>\n",
       "      <th>Brown Eyes</th>\n",
       "      <th>Wearing Earrings</th>\n",
       "      <th>Wearing Necktie</th>\n",
       "      <th>Wearing Necklace\\n</th>\n",
       "    </tr>\n",
       "  </thead>\n",
       "  <tbody>\n",
       "    <tr>\n",
       "      <th>0</th>\n",
       "      <td>AJ Cook</td>\n",
       "      <td>1.0</td>\n",
       "      <td>-2.104314</td>\n",
       "      <td>-2.049644</td>\n",
       "      <td>1.591600</td>\n",
       "      <td>-1.045685</td>\n",
       "      <td>-2.232376</td>\n",
       "      <td>-0.911712</td>\n",
       "      <td>0.613642</td>\n",
       "      <td>-0.781887</td>\n",
       "      <td>...</td>\n",
       "      <td>0.355319</td>\n",
       "      <td>-2.124374</td>\n",
       "      <td>0.262077</td>\n",
       "      <td>1.002586</td>\n",
       "      <td>-2.470392</td>\n",
       "      <td>0.393498</td>\n",
       "      <td>0.504409</td>\n",
       "      <td>0.256225</td>\n",
       "      <td>-0.676691</td>\n",
       "      <td>0.651946</td>\n",
       "    </tr>\n",
       "    <tr>\n",
       "      <th>1</th>\n",
       "      <td>AJ Lamas</td>\n",
       "      <td>1.0</td>\n",
       "      <td>0.061314</td>\n",
       "      <td>-1.203843</td>\n",
       "      <td>0.190530</td>\n",
       "      <td>-1.449692</td>\n",
       "      <td>-2.193837</td>\n",
       "      <td>-0.707221</td>\n",
       "      <td>0.424077</td>\n",
       "      <td>-0.337895</td>\n",
       "      <td>...</td>\n",
       "      <td>-0.645629</td>\n",
       "      <td>-0.689628</td>\n",
       "      <td>0.265310</td>\n",
       "      <td>-0.384761</td>\n",
       "      <td>0.291451</td>\n",
       "      <td>0.738267</td>\n",
       "      <td>0.841001</td>\n",
       "      <td>-0.060254</td>\n",
       "      <td>-0.637451</td>\n",
       "      <td>0.209275</td>\n",
       "    </tr>\n",
       "    <tr>\n",
       "      <th>2</th>\n",
       "      <td>Aaron Eckhart</td>\n",
       "      <td>1.0</td>\n",
       "      <td>1.568346</td>\n",
       "      <td>-1.889043</td>\n",
       "      <td>1.737203</td>\n",
       "      <td>-0.929729</td>\n",
       "      <td>-1.471799</td>\n",
       "      <td>-0.195580</td>\n",
       "      <td>-0.835609</td>\n",
       "      <td>-0.351468</td>\n",
       "      <td>...</td>\n",
       "      <td>0.361738</td>\n",
       "      <td>1.166118</td>\n",
       "      <td>-1.164916</td>\n",
       "      <td>-1.139990</td>\n",
       "      <td>-2.371746</td>\n",
       "      <td>-1.299932</td>\n",
       "      <td>-0.414682</td>\n",
       "      <td>-1.144902</td>\n",
       "      <td>0.694007</td>\n",
       "      <td>-0.826609</td>\n",
       "    </tr>\n",
       "    <tr>\n",
       "      <th>3</th>\n",
       "      <td>Aaron Guiel</td>\n",
       "      <td>1.0</td>\n",
       "      <td>0.169851</td>\n",
       "      <td>-0.982408</td>\n",
       "      <td>0.422709</td>\n",
       "      <td>-1.282184</td>\n",
       "      <td>-1.360060</td>\n",
       "      <td>-0.867002</td>\n",
       "      <td>-0.452293</td>\n",
       "      <td>-0.197521</td>\n",
       "      <td>...</td>\n",
       "      <td>-0.832036</td>\n",
       "      <td>-0.397680</td>\n",
       "      <td>0.874160</td>\n",
       "      <td>-0.945431</td>\n",
       "      <td>-0.268649</td>\n",
       "      <td>-0.006244</td>\n",
       "      <td>-0.030406</td>\n",
       "      <td>-0.480128</td>\n",
       "      <td>0.666760</td>\n",
       "      <td>-0.496559</td>\n",
       "    </tr>\n",
       "    <tr>\n",
       "      <th>4</th>\n",
       "      <td>Aaron Patterson</td>\n",
       "      <td>1.0</td>\n",
       "      <td>0.997749</td>\n",
       "      <td>-1.364195</td>\n",
       "      <td>-0.157377</td>\n",
       "      <td>-0.756447</td>\n",
       "      <td>-1.891825</td>\n",
       "      <td>-0.871526</td>\n",
       "      <td>-0.862893</td>\n",
       "      <td>0.031445</td>\n",
       "      <td>...</td>\n",
       "      <td>1.549743</td>\n",
       "      <td>1.884745</td>\n",
       "      <td>-0.999765</td>\n",
       "      <td>-1.359858</td>\n",
       "      <td>-1.912108</td>\n",
       "      <td>-1.095634</td>\n",
       "      <td>0.915126</td>\n",
       "      <td>-0.572332</td>\n",
       "      <td>0.144262</td>\n",
       "      <td>-0.841231</td>\n",
       "    </tr>\n",
       "  </tbody>\n",
       "</table>\n",
       "<p>5 rows × 75 columns</p>\n",
       "</div>"
      ],
      "text/plain": [
       "            person  imagenum      Male     Asian     White     Black  \\\n",
       "0          AJ Cook       1.0 -2.104314 -2.049644  1.591600 -1.045685   \n",
       "1         AJ Lamas       1.0  0.061314 -1.203843  0.190530 -1.449692   \n",
       "2    Aaron Eckhart       1.0  1.568346 -1.889043  1.737203 -0.929729   \n",
       "3      Aaron Guiel       1.0  0.169851 -0.982408  0.422709 -1.282184   \n",
       "4  Aaron Patterson       1.0  0.997749 -1.364195 -0.157377 -0.756447   \n",
       "\n",
       "       Baby     Child     Youth  Middle Aged  ...  Pale Skin  \\\n",
       "0 -2.232376 -0.911712  0.613642    -0.781887  ...   0.355319   \n",
       "1 -2.193837 -0.707221  0.424077    -0.337895  ...  -0.645629   \n",
       "2 -1.471799 -0.195580 -0.835609    -0.351468  ...   0.361738   \n",
       "3 -1.360060 -0.867002 -0.452293    -0.197521  ...  -0.832036   \n",
       "4 -1.891825 -0.871526 -0.862893     0.031445  ...   1.549743   \n",
       "\n",
       "   5 o' Clock Shadow  Strong Nose-Mouth Lines  Wearing Lipstick  Flushed Face  \\\n",
       "0          -2.124374                 0.262077          1.002586     -2.470392   \n",
       "1          -0.689628                 0.265310         -0.384761      0.291451   \n",
       "2           1.166118                -1.164916         -1.139990     -2.371746   \n",
       "3          -0.397680                 0.874160         -0.945431     -0.268649   \n",
       "4           1.884745                -0.999765         -1.359858     -1.912108   \n",
       "\n",
       "   High Cheekbones  Brown Eyes  Wearing Earrings  Wearing Necktie  \\\n",
       "0         0.393498    0.504409          0.256225        -0.676691   \n",
       "1         0.738267    0.841001         -0.060254        -0.637451   \n",
       "2        -1.299932   -0.414682         -1.144902         0.694007   \n",
       "3        -0.006244   -0.030406         -0.480128         0.666760   \n",
       "4        -1.095634    0.915126         -0.572332         0.144262   \n",
       "\n",
       "   Wearing Necklace\\n  \n",
       "0            0.651946  \n",
       "1            0.209275  \n",
       "2           -0.826609  \n",
       "3           -0.496559  \n",
       "4           -0.841231  \n",
       "\n",
       "[5 rows x 75 columns]"
      ]
     },
     "execution_count": 44,
     "metadata": {},
     "output_type": "execute_result"
    }
   ],
   "source": [
    "final_attr.head()"
   ]
  },
  {
   "cell_type": "code",
   "execution_count": 62,
   "metadata": {},
   "outputs": [],
   "source": [
    "smiling=np.array(final_attr['Smiling'].nlargest(25).index)\n",
    "sunglasses=np.array(final_attr['Sunglasses'].nlargest(25).index)"
   ]
  },
  {
   "cell_type": "code",
   "execution_count": 63,
   "metadata": {},
   "outputs": [],
   "source": [
    "not_smiling=np.array(final_attr['Smiling'].nsmallest(25).index)\n",
    "not_sunglasses=np.array(final_attr['Sunglasses'].nsmallest(25).index)"
   ]
  },
  {
   "cell_type": "code",
   "execution_count": 65,
   "metadata": {},
   "outputs": [],
   "source": [
    "def findex(arr,indexes):\n",
    "    new_arr=[]\n",
    "    for i in indexes:\n",
    "        new_arr.append(arr[i])\n",
    "    return np.array(new_arr)"
   ]
  },
  {
   "cell_type": "code",
   "execution_count": 68,
   "metadata": {},
   "outputs": [],
   "source": [
    "X_smiling=findex(X,smiling)\n",
    "X_not_smiling=findex(X,not_smiling)\n",
    "X_sunglasses=findex(X,sunglasses)\n",
    "X_not_sunglasses=findex(X,not_sunglasses)"
   ]
  },
  {
   "cell_type": "code",
   "execution_count": 75,
   "metadata": {},
   "outputs": [],
   "source": [
    "encode_smiling=np.mean(encoder.predict(X_smiling),0)-np.mean(encoder.predict(X_not_smiling),0)\n",
    "encode_sunglasses=np.mean(encoder.predict(X_sunglasses),0)-np.mean(encoder.predict(X_not_sunglasses),0)"
   ]
  },
  {
   "cell_type": "code",
   "execution_count": 100,
   "metadata": {},
   "outputs": [],
   "source": [
    "def add_feature(img,encode):\n",
    "    code=encoder.predict(img[None])+encode\n",
    "    reco=decoder.predict(code)[0]\n",
    "    plt.subplot(1,3,1)\n",
    "    plt.title(\"Original\")\n",
    "    plt.imshow(img)\n",
    "\n",
    "    plt.subplot(1,3,3)\n",
    "    plt.title(\"Reconstructed\")\n",
    "    plt.imshow(reco)\n",
    "    plt.show()"
   ]
  },
  {
   "cell_type": "code",
   "execution_count": 102,
   "metadata": {},
   "outputs": [
    {
     "name": "stderr",
     "output_type": "stream",
     "text": [
      "Clipping input data to the valid range for imshow with RGB data ([0..1] for floats or [0..255] for integers).\n"
     ]
    },
    {
     "data": {
      "image/png": "[encoded data removed]",
      "text/plain": [
       "<Figure size 432x288 with 2 Axes>"
      ]
     },
     "metadata": {
      "needs_background": "light"
     },
     "output_type": "display_data"
    }
   ],
   "source": [
    "add_feature(X[2],encode_sunglasses)"
   ]
  },
  {
   "cell_type": "code",
   "execution_count": null,
   "metadata": {},
   "outputs": [],
   "source": []
  },
  {
   "cell_type": "code",
   "execution_count": null,
   "metadata": {},
   "outputs": [],
   "source": []
  },
  {
   "cell_type": "code",
   "execution_count": null,
   "metadata": {},
   "outputs": [],
   "source": []
  }
 ],
 "metadata": {
  "kernelspec": {
   "display_name": "Python 3",
   "language": "python",
   "name": "python3"
  },
  "language_info": {
   "codemirror_mode": {
    "name": "ipython",
    "version": 3
   },
   "file_extension": ".py",
   "mimetype": "text/x-python",
   "name": "python",
   "nbconvert_exporter": "python",
   "pygments_lexer": "ipython3",
   "version": "3.7.6"
  }
 },
 "nbformat": 4,
 "nbformat_minor": 4
}
